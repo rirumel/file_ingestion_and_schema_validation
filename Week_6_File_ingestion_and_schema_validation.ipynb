{
 "cells": [
  {
   "cell_type": "markdown",
   "id": "b5ca95d4",
   "metadata": {},
   "source": [
    "Take any csv/text file of 2+ GB of your choice. --- (You can do this assignment on Google colab)\n",
    "\n",
    "Read the file ( Present approach of reading the file )\n",
    "\n",
    "Try different methods of file reading eg: Dask, Modin, Ray, pandas and present your findings in term of computational efficiency\n",
    "\n",
    "Perform basic validation on data columns : eg: remove special character , white spaces from the col name\n",
    "\n",
    "As you already know the schema hence create a YAML file and write the column name in YAML file. --define separator of read and write file, column name in YAML\n",
    "\n",
    "Validate number of columns and column name of ingested file with YAML.\n",
    "\n",
    "Write the file in pipe separated text file (|) in gz format.\n",
    "\n",
    "Create a summary of the file:\n",
    "\n",
    "Total number of rows,\n",
    "\n",
    "total number of columns\n",
    "\n",
    "file size"
   ]
  },
  {
   "cell_type": "code",
   "execution_count": 5,
   "id": "2d0132b0",
   "metadata": {},
   "outputs": [],
   "source": [
    "import pandas as pd\n",
    "import time\n",
    "import modin.pandas as pd\n",
    "import ray\n",
    "from dask import dataframe as dd\n",
    "import re\n",
    "\n",
    "import yaml"
   ]
  },
  {
   "cell_type": "code",
   "execution_count": 6,
   "id": "fbbb391d",
   "metadata": {},
   "outputs": [
    {
     "name": "stderr",
     "output_type": "stream",
     "text": [
      "UserWarning: Ray execution environment not yet initialized. Initializing...\n",
      "To remove this warning, run the following python code before doing dataframe operations:\n",
      "\n",
      "    import ray\n",
      "    ray.init()\n",
      "\n",
      "2023-02-12 01:55:38,061\tINFO worker.py:1538 -- Started a local Ray instance.\n",
      "2023-02-12 01:55:43,414\tWARNING __init__.py:183 -- DeprecationWarning: `ray.worker.global_worker` is a private attribute and access will be removed in a future Ray version.\n"
     ]
    }
   ],
   "source": [
    "datapath = 'F:/data_glacier_internship/week6/ds/horror_movies.csv'\n",
    "df = pd.read_csv(datapath)"
   ]
  },
  {
   "cell_type": "code",
   "execution_count": 7,
   "id": "fcfd6d12",
   "metadata": {},
   "outputs": [
    {
     "data": {
      "text/html": [
       "<div>\n",
       "<style scoped>\n",
       "    .dataframe tbody tr th:only-of-type {\n",
       "        vertical-align: middle;\n",
       "    }\n",
       "\n",
       "    .dataframe tbody tr th {\n",
       "        vertical-align: top;\n",
       "    }\n",
       "\n",
       "    .dataframe thead th {\n",
       "        text-align: right;\n",
       "    }\n",
       "</style>\n",
       "<table border=\"1\" class=\"dataframe\">\n",
       "  <thead>\n",
       "    <tr style=\"text-align: right;\">\n",
       "      <th></th>\n",
       "      <th>Unnamed: 0</th>\n",
       "      <th>id</th>\n",
       "      <th>original_title</th>\n",
       "      <th>title</th>\n",
       "      <th>original_language</th>\n",
       "      <th>overview</th>\n",
       "      <th>tagline</th>\n",
       "      <th>release_date</th>\n",
       "      <th>poster_path</th>\n",
       "      <th>popularity</th>\n",
       "      <th>...</th>\n",
       "      <th>vote_average</th>\n",
       "      <th>budget</th>\n",
       "      <th>revenue</th>\n",
       "      <th>runtime</th>\n",
       "      <th>status</th>\n",
       "      <th>adult</th>\n",
       "      <th>backdrop_path</th>\n",
       "      <th>genre_names</th>\n",
       "      <th>collection</th>\n",
       "      <th>collection_name</th>\n",
       "    </tr>\n",
       "  </thead>\n",
       "  <tbody>\n",
       "    <tr>\n",
       "      <th>0</th>\n",
       "      <td>1</td>\n",
       "      <td>760161</td>\n",
       "      <td>Orphan: First Kill</td>\n",
       "      <td>Orphan: First Kill</td>\n",
       "      <td>en</td>\n",
       "      <td>After escaping from an Estonian psychiatric fa...</td>\n",
       "      <td>There's always been something wrong with Esther.</td>\n",
       "      <td>2022-07-27</td>\n",
       "      <td>/pHkKbIRoCe7zIFvqan9LFSaQAde.jpg</td>\n",
       "      <td>5088.584</td>\n",
       "      <td>...</td>\n",
       "      <td>6.9</td>\n",
       "      <td>0.0</td>\n",
       "      <td>9572765.0</td>\n",
       "      <td>99</td>\n",
       "      <td>Released</td>\n",
       "      <td>False</td>\n",
       "      <td>/5GA3vV1aWWHTSDO5eno8V5zDo8r.jpg</td>\n",
       "      <td>Horror, Thriller</td>\n",
       "      <td>760193.0</td>\n",
       "      <td>Orphan Collection</td>\n",
       "    </tr>\n",
       "    <tr>\n",
       "      <th>1</th>\n",
       "      <td>2</td>\n",
       "      <td>760741</td>\n",
       "      <td>Beast</td>\n",
       "      <td>Beast</td>\n",
       "      <td>en</td>\n",
       "      <td>A recently widowed man and his two teenage dau...</td>\n",
       "      <td>Fight for family.</td>\n",
       "      <td>2022-08-11</td>\n",
       "      <td>/xIGr7UHsKf0URWmyyd5qFMAq4d8.jpg</td>\n",
       "      <td>2172.338</td>\n",
       "      <td>...</td>\n",
       "      <td>7.1</td>\n",
       "      <td>0.0</td>\n",
       "      <td>56000000.0</td>\n",
       "      <td>93</td>\n",
       "      <td>Released</td>\n",
       "      <td>False</td>\n",
       "      <td>/2k9tBql5GYH328Krj66tDT9LtFZ.jpg</td>\n",
       "      <td>Adventure, Drama, Horror</td>\n",
       "      <td>NaN</td>\n",
       "      <td>NaN</td>\n",
       "    </tr>\n",
       "    <tr>\n",
       "      <th>2</th>\n",
       "      <td>3</td>\n",
       "      <td>882598</td>\n",
       "      <td>Smile</td>\n",
       "      <td>Smile</td>\n",
       "      <td>en</td>\n",
       "      <td>After witnessing a bizarre, traumatic incident...</td>\n",
       "      <td>Once you see it, it’s too late.</td>\n",
       "      <td>2022-09-23</td>\n",
       "      <td>/hiaeZKzwsk4y4atFhmncO5KRxeT.jpg</td>\n",
       "      <td>1863.628</td>\n",
       "      <td>...</td>\n",
       "      <td>6.8</td>\n",
       "      <td>17000000.0</td>\n",
       "      <td>45000000.0</td>\n",
       "      <td>115</td>\n",
       "      <td>Released</td>\n",
       "      <td>False</td>\n",
       "      <td>/mVNPfpydornVe4H4UCIk7WevWjf.jpg</td>\n",
       "      <td>Horror, Mystery, Thriller</td>\n",
       "      <td>NaN</td>\n",
       "      <td>NaN</td>\n",
       "    </tr>\n",
       "    <tr>\n",
       "      <th>3</th>\n",
       "      <td>4</td>\n",
       "      <td>756999</td>\n",
       "      <td>The Black Phone</td>\n",
       "      <td>The Black Phone</td>\n",
       "      <td>en</td>\n",
       "      <td>Finney Blake, a shy but clever 13-year-old boy...</td>\n",
       "      <td>Never talk to strangers.</td>\n",
       "      <td>2022-06-22</td>\n",
       "      <td>/lr11mCT85T1JanlgjMuhs9nMht4.jpg</td>\n",
       "      <td>1071.398</td>\n",
       "      <td>...</td>\n",
       "      <td>7.9</td>\n",
       "      <td>18800000.0</td>\n",
       "      <td>161000000.0</td>\n",
       "      <td>103</td>\n",
       "      <td>Released</td>\n",
       "      <td>False</td>\n",
       "      <td>/AfvIjhDu9p64jKcmohS4hsPG95Q.jpg</td>\n",
       "      <td>Horror, Thriller</td>\n",
       "      <td>NaN</td>\n",
       "      <td>NaN</td>\n",
       "    </tr>\n",
       "    <tr>\n",
       "      <th>4</th>\n",
       "      <td>5</td>\n",
       "      <td>772450</td>\n",
       "      <td>Presencias</td>\n",
       "      <td>Presences</td>\n",
       "      <td>es</td>\n",
       "      <td>A man who loses his wife and goes to seclude h...</td>\n",
       "      <td>NaN</td>\n",
       "      <td>2022-09-07</td>\n",
       "      <td>/dgDT3uol3mdvwEg0jt1ble3l9hw.jpg</td>\n",
       "      <td>1020.995</td>\n",
       "      <td>...</td>\n",
       "      <td>7.0</td>\n",
       "      <td>0.0</td>\n",
       "      <td>0.0</td>\n",
       "      <td>0</td>\n",
       "      <td>Released</td>\n",
       "      <td>False</td>\n",
       "      <td>/ojfzhdwRemcDt1I6pao6vVLw9AA.jpg</td>\n",
       "      <td>Horror</td>\n",
       "      <td>NaN</td>\n",
       "      <td>NaN</td>\n",
       "    </tr>\n",
       "  </tbody>\n",
       "</table>\n",
       "<p>5 rows x 21 columns</p>\n",
       "</div>"
      ],
      "text/plain": [
       "   Unnamed: 0      id      original_title               title  \\\n",
       "0           1  760161  Orphan: First Kill  Orphan: First Kill   \n",
       "1           2  760741               Beast               Beast   \n",
       "2           3  882598               Smile               Smile   \n",
       "3           4  756999     The Black Phone     The Black Phone   \n",
       "4           5  772450          Presencias           Presences   \n",
       "\n",
       "  original_language                                           overview  \\\n",
       "0                en  After escaping from an Estonian psychiatric fa...   \n",
       "1                en  A recently widowed man and his two teenage dau...   \n",
       "2                en  After witnessing a bizarre, traumatic incident...   \n",
       "3                en  Finney Blake, a shy but clever 13-year-old boy...   \n",
       "4                es  A man who loses his wife and goes to seclude h...   \n",
       "\n",
       "                                            tagline release_date  \\\n",
       "0  There's always been something wrong with Esther.   2022-07-27   \n",
       "1                                 Fight for family.   2022-08-11   \n",
       "2                   Once you see it, it’s too late.   2022-09-23   \n",
       "3                          Never talk to strangers.   2022-06-22   \n",
       "4                                               NaN   2022-09-07   \n",
       "\n",
       "                        poster_path  popularity  ...  vote_average  \\\n",
       "0  /pHkKbIRoCe7zIFvqan9LFSaQAde.jpg    5088.584  ...           6.9   \n",
       "1  /xIGr7UHsKf0URWmyyd5qFMAq4d8.jpg    2172.338  ...           7.1   \n",
       "2  /hiaeZKzwsk4y4atFhmncO5KRxeT.jpg    1863.628  ...           6.8   \n",
       "3  /lr11mCT85T1JanlgjMuhs9nMht4.jpg    1071.398  ...           7.9   \n",
       "4  /dgDT3uol3mdvwEg0jt1ble3l9hw.jpg    1020.995  ...           7.0   \n",
       "\n",
       "       budget      revenue  runtime    status  adult  \\\n",
       "0         0.0    9572765.0       99  Released  False   \n",
       "1         0.0   56000000.0       93  Released  False   \n",
       "2  17000000.0   45000000.0      115  Released  False   \n",
       "3  18800000.0  161000000.0      103  Released  False   \n",
       "4         0.0          0.0        0  Released  False   \n",
       "\n",
       "                      backdrop_path                genre_names collection  \\\n",
       "0  /5GA3vV1aWWHTSDO5eno8V5zDo8r.jpg           Horror, Thriller   760193.0   \n",
       "1  /2k9tBql5GYH328Krj66tDT9LtFZ.jpg   Adventure, Drama, Horror        NaN   \n",
       "2  /mVNPfpydornVe4H4UCIk7WevWjf.jpg  Horror, Mystery, Thriller        NaN   \n",
       "3  /AfvIjhDu9p64jKcmohS4hsPG95Q.jpg           Horror, Thriller        NaN   \n",
       "4  /ojfzhdwRemcDt1I6pao6vVLw9AA.jpg                     Horror        NaN   \n",
       "\n",
       "     collection_name  \n",
       "0  Orphan Collection  \n",
       "1                NaN  \n",
       "2                NaN  \n",
       "3                NaN  \n",
       "4                NaN  \n",
       "\n",
       "[5 rows x 21 columns]"
      ]
     },
     "execution_count": 7,
     "metadata": {},
     "output_type": "execute_result"
    }
   ],
   "source": [
    "df.head()"
   ]
  },
  {
   "cell_type": "markdown",
   "id": "1ab7bf4a",
   "metadata": {},
   "source": [
    "## Reading data with Dask"
   ]
  },
  {
   "cell_type": "code",
   "execution_count": 22,
   "id": "a7b25991",
   "metadata": {},
   "outputs": [
    {
     "name": "stdout",
     "output_type": "stream",
     "text": [
      "Time to load data using pandas: 0.1318 seconds\n"
     ]
    }
   ],
   "source": [
    "\n",
    "start_time = time.perf_counter()\n",
    "df = dd.read_csv('F:/data_glacier_internship/week6/ds/horror_movies.csv')\n",
    "end_time = time.perf_counter()\n",
    "print(f\"Time to load data using pandas: {end_time - start_time:0.4f} seconds\")"
   ]
  },
  {
   "cell_type": "markdown",
   "id": "9a0b6d26",
   "metadata": {},
   "source": [
    "## Reading data with Pandas"
   ]
  },
  {
   "cell_type": "code",
   "execution_count": 23,
   "id": "7a4c323d",
   "metadata": {},
   "outputs": [
    {
     "name": "stdout",
     "output_type": "stream",
     "text": [
      "Time to load data using pandas: 0.0161 seconds\n"
     ]
    }
   ],
   "source": [
    "start_time = time.perf_counter()\n",
    "df = dd.read_csv('F:/data_glacier_internship/week6/ds/horror_movies.csv',delimiter=',')\n",
    "\n",
    "end_time = time.perf_counter()\n",
    "print(f\"Time to load data using pandas: {end_time - start_time:0.4f} seconds\")"
   ]
  },
  {
   "cell_type": "markdown",
   "id": "629a0644",
   "metadata": {},
   "source": [
    "## Reading data with Modin and Ray"
   ]
  },
  {
   "cell_type": "code",
   "execution_count": 24,
   "id": "5d2791e4",
   "metadata": {},
   "outputs": [
    {
     "name": "stderr",
     "output_type": "stream",
     "text": [
      "2023-02-12 04:16:59,571\tINFO worker.py:1538 -- Started a local Ray instance.\n"
     ]
    },
    {
     "name": "stdout",
     "output_type": "stream",
     "text": [
      "Reading csv with Modin and Ray took 4.038899183273315 seconds.\n"
     ]
    }
   ],
   "source": [
    "ray.shutdown()\n",
    "ray.init()\n",
    "\n",
    "csv_file = \"F:/data_glacier_internship/week6/ds/horror_movies.csv\"\n",
    "start_time = time.time()\n",
    "data_frame = pd.read_csv(csv_file)\n",
    "end_time = time.time()\n",
    "\n",
    "print(f\"Reading csv with Modin and Ray took {end_time - start_time} seconds.\")"
   ]
  },
  {
   "cell_type": "markdown",
   "id": "1096bad5",
   "metadata": {},
   "source": [
    "### Dask exhibits the shortest reading time of 0.1318 seconds, outperforming Pandas, and Modin and Ray."
   ]
  },
  {
   "cell_type": "markdown",
   "id": "1cd78e44",
   "metadata": {},
   "source": [
    "## Cleaning the Dataset"
   ]
  },
  {
   "cell_type": "code",
   "execution_count": null,
   "id": "d64d32f5",
   "metadata": {},
   "outputs": [],
   "source": [
    "df = df.dropna(how='any')"
   ]
  },
  {
   "cell_type": "code",
   "execution_count": null,
   "id": "f9cdaad5",
   "metadata": {},
   "outputs": [],
   "source": [
    "df = df.applymap(lambda x: re.sub(r'[^\\w\\s]', '', str(x)))"
   ]
  },
  {
   "cell_type": "code",
   "execution_count": null,
   "id": "83745128",
   "metadata": {},
   "outputs": [],
   "source": [
    "df.columns = df.columns.str.strip()"
   ]
  },
  {
   "cell_type": "code",
   "execution_count": null,
   "id": "a9ccedd4",
   "metadata": {},
   "outputs": [],
   "source": [
    "df.head()"
   ]
  },
  {
   "cell_type": "markdown",
   "id": "21472a1e",
   "metadata": {},
   "source": [
    "## Converting CSV to YAML"
   ]
  },
  {
   "cell_type": "code",
   "execution_count": null,
   "id": "d10cb95e",
   "metadata": {},
   "outputs": [],
   "source": [
    "df_panda = pd.DataFrame(df)"
   ]
  },
  {
   "cell_type": "code",
   "execution_count": null,
   "id": "4d36311c",
   "metadata": {},
   "outputs": [],
   "source": [
    "df_dict = df_panda.to_dict()"
   ]
  },
  {
   "cell_type": "code",
   "execution_count": null,
   "id": "1cf0f49f",
   "metadata": {},
   "outputs": [],
   "source": [
    "with open('F:/data_glacier_internship/week6/horror_movies.yaml', mode='w') as file:\n",
    "    yaml.dump(df_dict, file, indent=2)"
   ]
  },
  {
   "cell_type": "markdown",
   "id": "46ce134a",
   "metadata": {},
   "source": [
    "## Printing YAML"
   ]
  },
  {
   "cell_type": "code",
   "execution_count": 3,
   "id": "7cae8975",
   "metadata": {},
   "outputs": [],
   "source": [
    "with open(\"F:/data_glacier_internship/week6/horror_movies.yaml\", \"r\") as file:\n",
    "    data = yaml.safe_load(file)"
   ]
  },
  {
   "cell_type": "code",
   "execution_count": 4,
   "id": "5fecc23d",
   "metadata": {},
   "outputs": [
    {
     "name": "stdout",
     "output_type": "stream",
     "text": [
      "{0: {0: 'Unnamed: 0', 1: 'id', 2: 'original_title', 3: 'title', 4: 'original_language', 5: 'overview', 6: 'tagline', 7: 'release_date', 8: 'poster_path', 9: 'popularity', 10: 'vote_count', 11: 'vote_average', 12: 'budget', 13: 'revenue', 14: 'runtime', 15: 'status', 16: 'adult', 17: 'backdrop_path', 18: 'genre_names', 19: 'collection', 20: 'collection_name'}}\n"
     ]
    }
   ],
   "source": [
    "print(data)"
   ]
  },
  {
   "cell_type": "markdown",
   "id": "0eaa56a0",
   "metadata": {},
   "source": [
    "### Both CSV and YAML contain 21 columns. So, the conversion went correct."
   ]
  },
  {
   "cell_type": "markdown",
   "id": "1c94dacc",
   "metadata": {},
   "source": [
    "## Write the file in pipe separated text file (|) in gz format."
   ]
  },
  {
   "cell_type": "code",
   "execution_count": 18,
   "id": "b526af65",
   "metadata": {},
   "outputs": [],
   "source": [
    "import gzip\n",
    "import csv\n",
    "\n",
    "# Open the csv file in read-only binary mode\n",
    "with open(\"F:/data_glacier_internship/week6/ds/horror_movies.csv\", 'rb') as f_in:\n",
    "    # Create a csv reader object\n",
    "    reader = csv.reader(f_in.read().decode(\"utf-8\").splitlines(), delimiter=',')\n",
    "\n",
    "    # Open a gz file in write mode\n",
    "    with gzip.open(\"F:/data_glacier_internship/week6/ds/horror_movies.csv.gz\", 'wb') as f_out:\n",
    "        # Write the rows to the gz file\n",
    "        for row in reader:\n",
    "            line = '|'.join(row) + '\\n'\n",
    "            f_out.write(line.encode(\"utf-8\"))\n",
    "\n",
    "\n"
   ]
  },
  {
   "cell_type": "code",
   "execution_count": 19,
   "id": "d59d3e90",
   "metadata": {},
   "outputs": [
    {
     "name": "stdout",
     "output_type": "stream",
     "text": [
      "Number of gz files in the directory: 1\n"
     ]
    }
   ],
   "source": [
    "import os\n",
    "\n",
    "# Path to the directory\n",
    "directory = \"F:/data_glacier_internship/week6/ds/\"\n",
    "\n",
    "# Get a list of all entries in the directory\n",
    "entries = os.listdir(directory)\n",
    "\n",
    "# Filter the list to only include files with .gz extension\n",
    "gz_files = [entry for entry in entries if entry.endswith('.gz')]\n",
    "\n",
    "# Print the number of gz files in the directory\n",
    "print(f\"Number of gz files in the directory: {len(gz_files)}\")"
   ]
  },
  {
   "cell_type": "markdown",
   "id": "3eddfdf1",
   "metadata": {},
   "source": [
    "## Summary"
   ]
  },
  {
   "cell_type": "code",
   "execution_count": 21,
   "id": "9a2105a4",
   "metadata": {},
   "outputs": [
    {
     "data": {
      "text/plain": [
       "6026539"
      ]
     },
     "execution_count": 21,
     "metadata": {},
     "output_type": "execute_result"
    }
   ],
   "source": [
    "#size of the file:\n",
    "os.path.getsize('F:/data_glacier_internship/week6/ds/horror_movies.csv.gz')"
   ]
  },
  {
   "cell_type": "code",
   "execution_count": null,
   "id": "b5720f74",
   "metadata": {},
   "outputs": [],
   "source": []
  }
 ],
 "metadata": {
  "kernelspec": {
   "display_name": "Python 3 (ipykernel)",
   "language": "python",
   "name": "python3"
  },
  "language_info": {
   "codemirror_mode": {
    "name": "ipython",
    "version": 3
   },
   "file_extension": ".py",
   "mimetype": "text/x-python",
   "name": "python",
   "nbconvert_exporter": "python",
   "pygments_lexer": "ipython3",
   "version": "3.7.3"
  }
 },
 "nbformat": 4,
 "nbformat_minor": 5
}
